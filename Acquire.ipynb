{
 "cells": [
  {
   "cell_type": "markdown",
   "metadata": {},
   "source": [
    "# 走行動画をmp4ファイルに収集"
   ]
  },
  {
   "cell_type": "code",
   "execution_count": 1,
   "metadata": {},
   "outputs": [],
   "source": [
    "capture_len = 240  # キャプチャ時間(秒)\n",
    "fps=10            # fps\n",
    "\n",
    "w,h = 224,224     # 解像度"
   ]
  },
  {
   "cell_type": "code",
   "execution_count": 2,
   "metadata": {},
   "outputs": [],
   "source": [
    "import cv2\n",
    "import datetime\n",
    "import os\n",
    "import time"
   ]
  },
  {
   "cell_type": "markdown",
   "metadata": {},
   "source": [
    "カメラ起動"
   ]
  },
  {
   "cell_type": "code",
   "execution_count": 3,
   "metadata": {},
   "outputs": [
    {
     "name": "stdout",
     "output_type": "stream",
     "text": [
      "[sudo] password for jetson: "
     ]
    }
   ],
   "source": [
    "!echo jetson | sudo -S systemctl restart nvargus-daemon"
   ]
  },
  {
   "cell_type": "code",
   "execution_count": 4,
   "metadata": {},
   "outputs": [],
   "source": [
    "from jetcam.csi_camera import CSICamera\n",
    "\n",
    "camera = CSICamera(width=w, height=h, capture_fps=fps)"
   ]
  },
  {
   "cell_type": "markdown",
   "metadata": {},
   "source": [
    "書出しファイル設定"
   ]
  },
  {
   "cell_type": "code",
   "execution_count": 5,
   "metadata": {},
   "outputs": [],
   "source": [
    "t_delta=datetime.timedelta(hours=9)\n",
    "JST=datetime.timezone(t_delta,'JST')\n",
    "tm=datetime.datetime.now(datetime.timezone(datetime.timedelta(hours=9))).strftime(\"%Y%m%d-%H%M%S\")"
   ]
  },
  {
   "cell_type": "code",
   "execution_count": 6,
   "metadata": {},
   "outputs": [],
   "source": [
    "fname = \"movie/acquire-\"+tm+\".mp4\"\n",
    "\n",
    "fourcc = cv2.VideoWriter_fourcc('m', 'p', '4', 'v')        # 動画保存時のfourcc設定（mp4用）\n",
    "video = cv2.VideoWriter(fname, fourcc, fps, (w, h))  # 動画の仕様（ファイル名、fourcc, FPS, サイズ）"
   ]
  },
  {
   "cell_type": "markdown",
   "metadata": {},
   "source": [
    "キャプチャ"
   ]
  },
  {
   "cell_type": "code",
   "execution_count": 8,
   "metadata": {},
   "outputs": [
    {
     "name": "stdout",
     "output_type": "stream",
     "text": [
      "残り 360.0 秒\n",
      "残り 350.0 秒\n",
      "残り 340.0 秒\n",
      "残り 330.0 秒\n",
      "残り 320.0 秒\n",
      "残り 310.0 秒\n",
      "残り 300.0 秒\n",
      "残り 290.0 秒\n",
      "残り 280.0 秒\n",
      "残り 270.0 秒\n",
      "残り 260.0 秒\n",
      "残り 250.0 秒\n",
      "残り 240.0 秒\n",
      "残り 230.0 秒\n",
      "残り 220.0 秒\n",
      "残り 210.0 秒\n",
      "残り 200.0 秒\n",
      "残り 190.0 秒\n",
      "残り 180.0 秒\n",
      "残り 170.0 秒\n",
      "残り 160.0 秒\n",
      "残り 150.0 秒\n",
      "残り 140.0 秒\n",
      "残り 130.0 秒\n",
      "残り 120.0 秒\n",
      "残り 110.0 秒\n",
      "残り 100.0 秒\n",
      "残り 90.0 秒\n",
      "残り 80.0 秒\n",
      "残り 70.0 秒\n",
      "残り 60.0 秒\n",
      "残り 50.0 秒\n",
      "残り 40.0 秒\n",
      "残り 30.0 秒\n",
      "残り 20.0 秒\n",
      "残り 10.0 秒\n",
      "movie was captureed to movie/acquire-20220730-183606.mp4\n"
     ]
    }
   ],
   "source": [
    "count = 0\n",
    "while count<capture_len*fps:\n",
    "    image = camera.read()\n",
    "    video.write(image)\n",
    "    if count%(fps*10)==0:\n",
    "        print('残り',(capture_len-count/fps),'秒')\n",
    "    count = count+1\n",
    "    \n",
    "video.release()\n",
    "\n",
    "print('movie was captureed to ' + fname)"
   ]
  },
  {
   "cell_type": "code",
   "execution_count": null,
   "metadata": {},
   "outputs": [],
   "source": []
  }
 ],
 "metadata": {
  "kernelspec": {
   "display_name": "Python 3",
   "language": "python",
   "name": "python3"
  },
  "language_info": {
   "codemirror_mode": {
    "name": "ipython",
    "version": 3
   },
   "file_extension": ".py",
   "mimetype": "text/x-python",
   "name": "python",
   "nbconvert_exporter": "python",
   "pygments_lexer": "ipython3",
   "version": "3.6.9"
  }
 },
 "nbformat": 4,
 "nbformat_minor": 4
}
